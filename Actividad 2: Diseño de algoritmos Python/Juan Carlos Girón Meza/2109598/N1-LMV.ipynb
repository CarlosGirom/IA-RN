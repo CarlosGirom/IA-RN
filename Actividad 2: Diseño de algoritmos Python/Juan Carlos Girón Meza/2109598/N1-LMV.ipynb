{
  "cells": [
    {
      "cell_type": "markdown",
      "metadata": {
        "id": "view-in-github",
        "colab_type": "text"
      },
      "source": [
        "<a href=\"https://colab.research.google.com/github/CarlosGirom/IA-RN/blob/main/Actividad%202%3A%20Dise%C3%B1o%20de%20algoritmos%20Python/Juan%20Carlos%20Gir%C3%B3n%20Meza/2109598/N1-LMV.ipynb\" target=\"_parent\"><img src=\"https://colab.research.google.com/assets/colab-badge.svg\" alt=\"Open In Colab\"/></a>"
      ]
    },
    {
      "cell_type": "code",
      "source": [
        "nombre = input(\"¿Cómo te llamas? \")\n",
        "\n",
        "if nombre.lower() in [\"ana\", \"juan\", \"pedro\"]:\n",
        "  print(\"¡Hola a todos!\")\n",
        "else:\n",
        "  print(f\"¡Hola {nombre}!\")\n"
      ],
      "metadata": {
        "id": "NzfKTuDMCkW1"
      },
      "execution_count": null,
      "outputs": []
    }
  ],
  "metadata": {
    "colab": {
      "provenance": [],
      "include_colab_link": true
    },
    "kernelspec": {
      "display_name": "Python 3",
      "name": "python3"
    },
    "language_info": {
      "name": "python"
    }
  },
  "nbformat": 4,
  "nbformat_minor": 0
}