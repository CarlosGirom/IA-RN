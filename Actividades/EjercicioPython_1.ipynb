{
  "cells": [
    {
      "cell_type": "markdown",
      "source": [
        "## **Act2:Diseño de algoritmos en Python-Juan Carlos Girón Meza-2109598-N1/LMV**\n",
        "\n",
        "---\n",
        "\n"
      ],
      "metadata": {
        "id": "MSpx0iSwiZVE"
      }
    },
    {
      "cell_type": "code",
      "source": [
        "nombre = input(\"¿Cómo te llamas? \")\n",
        "\n",
        "if nombre.lower() in [\"ana\", \"juan\", \"pedro\"]:\n",
        "  print(\"¡Hola a todos!\")\n",
        "else:\n",
        "  print(f\"¡Hola {nombre}!\")\n"
      ],
      "metadata": {
        "colab": {
          "base_uri": "https://localhost:8080/"
        },
        "id": "NzfKTuDMCkW1",
        "outputId": "13b174a8-64e7-4725-ddee-7f9a879d830e"
      },
      "execution_count": 6,
      "outputs": [
        {
          "output_type": "stream",
          "name": "stdout",
          "text": [
            "¿Cómo te llamas? Carlos\n",
            "¡Hola Carlos!\n"
          ]
        }
      ]
    },
    {
      "cell_type": "code",
      "source": [
        "def invertir_lista(lista):\n",
        "  \"\"\"\n",
        "  Invierte el orden de una lista.\n",
        "\n",
        "  Parámetros:\n",
        "    lista: La lista a invertir.\n",
        "\n",
        "  Salida:\n",
        "    Una nueva lista con los elementos de la lista original en orden inverso.\n",
        "  \"\"\"\n",
        "\n",
        "  # Pedir al usuario la longitud de la lista\n",
        "  longitud = int(input(\"Ingrese la longitud de la lista: \"))\n",
        "\n",
        "  # Crear una lista vacía para almacenar los elementos invertidos\n",
        "  lista_invertida = []\n",
        "\n",
        "  # Recorrer la lista original en orden inverso\n",
        "  for i in range(longitud-1, -1, -1):\n",
        "    elemento = lista[i]\n",
        "    lista_invertida.append(elemento)\n",
        "\n",
        "  # Devolver la lista invertida\n",
        "  return lista_invertida\n",
        "\n",
        "# Ejemplo de uso\n",
        "lista = [\"a\", \"b\", \"c\", \"d\", \"e\"]\n",
        "\n",
        "lista_invertida = invertir_lista(lista)\n",
        "\n",
        "print(lista_invertida)\n"
      ],
      "metadata": {
        "id": "wej616pCNFtr",
        "outputId": "147e0579-f338-4395-9faf-e038047bdfe2",
        "colab": {
          "base_uri": "https://localhost:8080/"
        }
      },
      "execution_count": 19,
      "outputs": [
        {
          "output_type": "stream",
          "name": "stdout",
          "text": [
            "Ingrese la longitud de la lista: 3\n",
            "['c', 'b', 'a']\n"
          ]
        }
      ]
    },
    {
      "cell_type": "code",
      "source": [
        "def fibonacci(n):\n",
        "  \"\"\"\n",
        "  Genera los n primeros números de la serie de Fibonacci.\n",
        "\n",
        "  Parámetros:\n",
        "    n: La cantidad de números de Fibonacci a generar.\n",
        "\n",
        "  Salida:\n",
        "    Una lista con los n primeros números de la serie de Fibonacci.\n",
        "  \"\"\"\n",
        "  if n == 0:\n",
        "    return []\n",
        "  elif n == 1:\n",
        "    return [0]\n",
        "  elif n == 2:\n",
        "    return [0, 1]\n",
        "  else:\n",
        "    # Se inicializan los dos primeros números\n",
        "    a, b = 0, 1\n",
        "    serie = [a, b]\n",
        "    # Se generan los n-2 números restantes\n",
        "    for i in range(2, n):\n",
        "      c = a + b\n",
        "      serie.append(c)\n",
        "      a, b = b, c\n",
        "    return serie\n",
        "\n",
        "# Pedir al usuario la cantidad de números de Fibonacci\n",
        "n = int(input(\"¿Cuántos números de Fibonacci desea generar?: \"))\n",
        "\n",
        "# Generar la serie de Fibonacci\n",
        "serie_fibonacci = fibonacci(n)\n",
        "\n",
        "# Imprimir la serie de Fibonacci\n",
        "print(\"Los\", n, \"primeros números de la serie de Fibonacci son:\", serie_fibonacci)\n"
      ],
      "metadata": {
        "id": "3uSVYVaNOU_p",
        "outputId": "3ddc010a-e135-4774-ee3d-eeb5bb92db95",
        "colab": {
          "base_uri": "https://localhost:8080/"
        }
      },
      "execution_count": 7,
      "outputs": [
        {
          "output_type": "stream",
          "name": "stdout",
          "text": [
            "¿Cuántos números de Fibonacci desea generar?: 2\n",
            "Los 2 primeros números de la serie de Fibonacci son: [0, 1]\n"
          ]
        }
      ]
    },
    {
      "cell_type": "code",
      "source": [
        "import random\n",
        "\n",
        "def juego_adivina_numero():\n",
        "    # Generar un número aleatorio entre 1 y 100\n",
        "    numero_objetivo = random.randint(1, 100)\n",
        "\n",
        "    intentos = 0\n",
        "\n",
        "    while True:\n",
        "        # Pedir al usuario que adivine el número\n",
        "        intento_usuario = int(input(\"Adivina el número (entre 1 y 100): \"))\n",
        "        intentos += 1\n",
        "\n",
        "        # Verificar si el intento es correcto\n",
        "        if intento_usuario == numero_objetivo:\n",
        "            print(f\"¡Felicidades! Adivinaste el número {numero_objetivo} en {intentos} intentos.\")\n",
        "            break\n",
        "        elif intento_usuario < numero_objetivo:\n",
        "            print(\"El número es mayor. Intenta nuevamente.\")\n",
        "        else:\n",
        "            print(\"El número es menor. Intenta nuevamente.\")\n",
        "\n",
        "# Iniciar el juego\n",
        "juego_adivina_numero()\n"
      ],
      "metadata": {
        "colab": {
          "base_uri": "https://localhost:8080/"
        },
        "id": "VqIDz1w5bFcS",
        "outputId": "59154378-9941-475f-fdbe-5f8432b01429"
      },
      "execution_count": 11,
      "outputs": [
        {
          "output_type": "stream",
          "name": "stdout",
          "text": [
            "Adivina el número (entre 1 y 100): 90\n",
            "El número es menor. Intenta nuevamente.\n",
            "Adivina el número (entre 1 y 100): 80\n",
            "El número es menor. Intenta nuevamente.\n",
            "Adivina el número (entre 1 y 100): 60\n",
            "El número es menor. Intenta nuevamente.\n",
            "Adivina el número (entre 1 y 100): 30\n",
            "El número es menor. Intenta nuevamente.\n",
            "Adivina el número (entre 1 y 100): 95\n",
            "El número es menor. Intenta nuevamente.\n",
            "Adivina el número (entre 1 y 100): 99\n",
            "El número es menor. Intenta nuevamente.\n",
            "Adivina el número (entre 1 y 100): 20\n",
            "El número es menor. Intenta nuevamente.\n",
            "Adivina el número (entre 1 y 100): 15\n",
            "El número es menor. Intenta nuevamente.\n",
            "Adivina el número (entre 1 y 100): 1\n",
            "El número es mayor. Intenta nuevamente.\n",
            "Adivina el número (entre 1 y 100): 2\n",
            "El número es mayor. Intenta nuevamente.\n",
            "Adivina el número (entre 1 y 100): 12\n",
            "El número es mayor. Intenta nuevamente.\n",
            "Adivina el número (entre 1 y 100): 14\n",
            "El número es menor. Intenta nuevamente.\n",
            "Adivina el número (entre 1 y 100): 15\n",
            "El número es menor. Intenta nuevamente.\n",
            "Adivina el número (entre 1 y 100): 13\n",
            "¡Felicidades! Adivinaste el número 13 en 14 intentos.\n"
          ]
        }
      ]
    },
    {
      "cell_type": "code",
      "source": [
        "def es_primo(numero):\n",
        "    if numero < 2:\n",
        "        return False\n",
        "    for i in range(2, int(numero**0.5) + 1):\n",
        "        if numero % i == 0:\n",
        "            return False\n",
        "    return True\n",
        "\n",
        "def numeros_primos_en_rango():\n",
        "    # Solicitar al usuario el rango de números\n",
        "    inicio = int(input(\"Ingrese el inicio del rango: \"))\n",
        "    fin = int(input(\"Ingrese el final del rango: \"))\n",
        "\n",
        "    print(f\"Números primos en el rango de {inicio} a {fin}:\")\n",
        "\n",
        "    # Mostrar números primos dentro del rango\n",
        "    for num in range(inicio, fin + 1):\n",
        "        if es_primo(num):\n",
        "            print(num)\n",
        "\n",
        "# Iniciar el programa\n",
        "numeros_primos_en_rango()"
      ],
      "metadata": {
        "colab": {
          "base_uri": "https://localhost:8080/"
        },
        "id": "7PlhE7gnc5uu",
        "outputId": "24fd9ac6-d8fa-48aa-a957-7461b6beab03"
      },
      "execution_count": 13,
      "outputs": [
        {
          "output_type": "stream",
          "name": "stdout",
          "text": [
            "Ingrese el inicio del rango: 3\n",
            "Ingrese el final del rango: 7\n",
            "Números primos en el rango de 3 a 7:\n",
            "3\n",
            "5\n",
            "7\n"
          ]
        }
      ]
    },
    {
      "cell_type": "code",
      "source": [
        "def suma(a, b):\n",
        "    return a + b\n",
        "\n",
        "def resta(a, b):\n",
        "    return a - b\n",
        "\n",
        "def multiplicacion(a, b):\n",
        "    return a * b\n",
        "\n",
        "def division(a, b):\n",
        "    if b != 0:\n",
        "        return a / b\n",
        "    else:\n",
        "        return \"Error: No se puede dividir por cero.\"\n",
        "\n",
        "def calculadora_basica():\n",
        "    # Solicitar al usuario dos números\n",
        "    num1 = float(input(\"Ingrese el primer número: \"))\n",
        "    num2 = float(input(\"Ingrese el segundo número: \"))\n",
        "\n",
        "    # Realizar operaciones básicas\n",
        "    resultado_suma = suma(num1, num2)\n",
        "    resultado_resta = resta(num1, num2)\n",
        "    resultado_multiplicacion = multiplicacion(num1, num2)\n",
        "    resultado_division = division(num1, num2)\n",
        "\n",
        "    # Mostrar resultados\n",
        "    print(f\"Suma: {resultado_suma}\")\n",
        "    print(f\"Resta: {resultado_resta}\")\n",
        "    print(f\"Multiplicación: {resultado_multiplicacion}\")\n",
        "    print(f\"División: {resultado_division}\")\n",
        "\n",
        "# Iniciar el programa\n",
        "calculadora_basica()\n"
      ],
      "metadata": {
        "colab": {
          "base_uri": "https://localhost:8080/"
        },
        "id": "EWNCO21OduaG",
        "outputId": "6f4603a9-3be9-4281-8c1a-271e96178e9b"
      },
      "execution_count": 17,
      "outputs": [
        {
          "output_type": "stream",
          "name": "stdout",
          "text": [
            "Ingrese el primer número: 89\n",
            "Ingrese el segundo número: 67\n",
            "Suma: 156.0\n",
            "Resta: 22.0\n",
            "Multiplicación: 5963.0\n",
            "División: 1.328358208955224\n"
          ]
        }
      ]
    }
  ],
  "metadata": {
    "colab": {
      "provenance": []
    },
    "kernelspec": {
      "display_name": "Python 3",
      "name": "python3"
    },
    "language_info": {
      "name": "python"
    }
  },
  "nbformat": 4,
  "nbformat_minor": 0
}